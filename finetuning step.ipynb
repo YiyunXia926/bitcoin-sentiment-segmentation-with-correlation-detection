{
 "cells": [
  {
   "cell_type": "code",
   "execution_count": 1,
   "metadata": {},
   "outputs": [],
   "source": [
    "import json\n",
    "import tiktoken # for token counting\n",
    "import numpy as np\n",
    "from collections import defaultdict\n",
    "from openai import OpenAI"
   ]
  },
  {
   "cell_type": "code",
   "execution_count": 2,
   "metadata": {},
   "outputs": [
    {
     "name": "stdout",
     "output_type": "stream",
     "text": [
      "Num examples: 11239\n",
      "First example:\n",
      "{'role': 'system', 'content': 'You are a sentiment analysis assistant.'}\n",
      "{'role': 'user', 'content': 'Paris Hilton’s Hotel Mogul Father to Sell $38 Million Mansion for Cryptocurrency'}\n",
      "{'role': 'assistant', 'content': '0.0'}\n"
     ]
    }
   ],
   "source": [
    "data_path = \"C:/Users/a1669/Desktop/BitcoinSentimentAnalysis-main/news_finetune.jsonl\"\n",
    "\n",
    "# Load the dataset\n",
    "with open(data_path, 'r', encoding='utf-8') as f:\n",
    "    dataset = [json.loads(line) for line in f]\n",
    "\n",
    "# Initial dataset stats\n",
    "print(\"Num examples:\", len(dataset))\n",
    "print(\"First example:\")\n",
    "for message in dataset[0][\"messages\"]:\n",
    "    print(message)"
   ]
  },
  {
   "cell_type": "code",
   "execution_count": null,
   "metadata": {},
   "outputs": [],
   "source": [
    "client = OpenAI(api_key = \"API_key_here\")"
   ]
  },
  {
   "cell_type": "code",
   "execution_count": 4,
   "metadata": {},
   "outputs": [
    {
     "data": {
      "text/plain": [
       "FileObject(id='file-T1vkDNSyj71DnpJQeLWc1T', bytes=2581110, created_at=1742414324, filename='news_finetune.jsonl', object='file', purpose='fine-tune', status='processed', expires_at=None, status_details=None)"
      ]
     },
     "execution_count": 4,
     "metadata": {},
     "output_type": "execute_result"
    }
   ],
   "source": [
    "from openai import OpenAI\n",
    "\n",
    "\n",
    "client.files.create(\n",
    "  file=open(data_path, \"rb\"),\n",
    "  purpose=\"fine-tune\"\n",
    ")\n"
   ]
  },
  {
   "cell_type": "code",
   "execution_count": 5,
   "metadata": {},
   "outputs": [
    {
     "name": "stdout",
     "output_type": "stream",
     "text": [
      "File ID: file-T1vkDNSyj71DnpJQeLWc1T, File Name: news_finetune.jsonl\n",
      "File ID: file-FsEzguUodECn5fxo5wyyJP, File Name: balanced_crypto_news_sentiment_truncated.jsonl\n",
      "File ID: file-KXftBz6o5ZENG7hg5fDAGe, File Name: crypto_news_sentiment_1000_for_finetuning.jsonl\n",
      "File ID: file-43Khqa2njLAmNC4M5sQdB9, File Name: step_metrics.csv\n",
      "File ID: file-RMvGAYHm9pvpsYot9Syjgb, File Name: crypto_sentiment.jsonl\n"
     ]
    }
   ],
   "source": [
    "\n",
    "files = client.files.list()\n",
    "\n",
    "for file in files.data:\n",
    "    print(f\"File ID: {file.id}, File Name: {file.filename}\")"
   ]
  },
  {
   "cell_type": "code",
   "execution_count": 6,
   "metadata": {},
   "outputs": [
    {
     "data": {
      "text/plain": [
       "FineTuningJob(id='ftjob-AuJnd3E0pkZRVVgtKGEPfQa3', created_at=1742414341, error=Error(code=None, message=None, param=None), fine_tuned_model=None, finished_at=None, hyperparameters=Hyperparameters(batch_size='auto', learning_rate_multiplier='auto', n_epochs='auto'), model='gpt-4o-mini-2024-07-18', object='fine_tuning.job', organization_id='org-ndNaSesW2s9ltqj7ReuUHojN', result_files=[], seed=1913619427, status='validating_files', trained_tokens=None, training_file='file-T1vkDNSyj71DnpJQeLWc1T', validation_file=None, estimated_finish=None, integrations=[], method=Method(dpo=None, supervised=MethodSupervised(hyperparameters=MethodSupervisedHyperparameters(batch_size='auto', learning_rate_multiplier='auto', n_epochs='auto')), type='supervised'), user_provided_suffix=None, metadata=None)"
      ]
     },
     "execution_count": 6,
     "metadata": {},
     "output_type": "execute_result"
    }
   ],
   "source": [
    "client.fine_tuning.jobs.create(\n",
    "  training_file=\"file-T1vkDNSyj71DnpJQeLWc1T\",\n",
    "  model=\"gpt-4o-mini-2024-07-18\"\n",
    ")"
   ]
  },
  {
   "cell_type": "code",
   "execution_count": 7,
   "metadata": {},
   "outputs": [
    {
     "data": {
      "text/plain": [
       "SyncCursorPage[FineTuningJob](data=[FineTuningJob(id='ftjob-AuJnd3E0pkZRVVgtKGEPfQa3', created_at=1742414341, error=Error(code=None, message=None, param=None), fine_tuned_model=None, finished_at=None, hyperparameters=Hyperparameters(batch_size='auto', learning_rate_multiplier='auto', n_epochs='auto'), model='gpt-4o-mini-2024-07-18', object='fine_tuning.job', organization_id='org-ndNaSesW2s9ltqj7ReuUHojN', result_files=[], seed=1913619427, status='validating_files', trained_tokens=None, training_file='file-T1vkDNSyj71DnpJQeLWc1T', validation_file=None, estimated_finish=None, integrations=[], method=Method(dpo=None, supervised=MethodSupervised(hyperparameters=MethodSupervisedHyperparameters(batch_size='auto', learning_rate_multiplier='auto', n_epochs='auto')), type='supervised'), user_provided_suffix=None, metadata=None), FineTuningJob(id='ftjob-vPixgbptHX0dT9FYcsQNv7Rl', created_at=1742392232, error=Error(code='exceeded_quota', message='Creating this fine-tuning job would exceed your hard limit, please check your plan and billing details.                     Cost of job ftjob-vPixgbptHX0dT9FYcsQNv7Rl: USD 6.03. Quota remaining for your project proj_LJ8GZBj1nmAx2Kbslk7eQK9m: USD 2.70.', param=None), fine_tuned_model=None, finished_at=None, hyperparameters=Hyperparameters(batch_size=2, learning_rate_multiplier=1.8, n_epochs=3), model='gpt-4o-mini-2024-07-18', object='fine_tuning.job', organization_id='org-ndNaSesW2s9ltqj7ReuUHojN', result_files=[], seed=1598134468, status='failed', trained_tokens=None, training_file='file-KXftBz6o5ZENG7hg5fDAGe', validation_file=None, estimated_finish=None, integrations=[], method=Method(dpo=None, supervised=MethodSupervised(hyperparameters=MethodSupervisedHyperparameters(batch_size=2, learning_rate_multiplier=1.8, n_epochs=3)), type='supervised'), user_provided_suffix=None, metadata=None), FineTuningJob(id='ftjob-eiTGAuddvaY1f7gN5RtH1GHg', created_at=1742138819, error=Error(code=None, message=None, param=None), fine_tuned_model='ft:gpt-4o-mini-2024-07-18:personal::BBkIZPbM', finished_at=1742139277, hyperparameters=Hyperparameters(batch_size=1, learning_rate_multiplier=1.8, n_epochs=5), model='gpt-4o-mini-2024-07-18', object='fine_tuning.job', organization_id='org-ndNaSesW2s9ltqj7ReuUHojN', result_files=['file-43Khqa2njLAmNC4M5sQdB9'], seed=964811302, status='succeeded', trained_tokens=4055, training_file='file-RMvGAYHm9pvpsYot9Syjgb', validation_file=None, estimated_finish=None, integrations=[], method=Method(dpo=None, supervised=MethodSupervised(hyperparameters=MethodSupervisedHyperparameters(batch_size=1, learning_rate_multiplier=1.8, n_epochs=5)), type='supervised'), user_provided_suffix=None, metadata=None), FineTuningJob(id='ftjob-KwFv5uGLeSTjeo4eLvwkO4fG', created_at=1741748262, error=Error(code=None, message=None, param=None), fine_tuned_model='ft:gpt-4o-mini-2024-07-18:personal::BA6i6TBl', finished_at=1741748772, hyperparameters=Hyperparameters(batch_size=1, learning_rate_multiplier=1.8, n_epochs=3), model='gpt-4o-mini-2024-07-18', object='fine_tuning.job', organization_id='org-ndNaSesW2s9ltqj7ReuUHojN', result_files=['file-YZJAnHQrcreDTvWoFHanM4'], seed=998381025, status='succeeded', trained_tokens=8103, training_file='file-Yad1UayKn5UBfXSRBAb2DH', validation_file=None, estimated_finish=None, integrations=[], method=Method(dpo=None, supervised=MethodSupervised(hyperparameters=MethodSupervisedHyperparameters(batch_size=1, learning_rate_multiplier=1.8, n_epochs=3)), type='supervised'), user_provided_suffix=None, metadata=None)], has_more=False, object='list')"
      ]
     },
     "execution_count": 7,
     "metadata": {},
     "output_type": "execute_result"
    }
   ],
   "source": [
    "client.fine_tuning.jobs.list()"
   ]
  }
 ],
 "metadata": {
  "kernelspec": {
   "display_name": "Python 3",
   "language": "python",
   "name": "python3"
  },
  "language_info": {
   "codemirror_mode": {
    "name": "ipython",
    "version": 3
   },
   "file_extension": ".py",
   "mimetype": "text/x-python",
   "name": "python",
   "nbconvert_exporter": "python",
   "pygments_lexer": "ipython3",
   "version": "3.13.2"
  }
 },
 "nbformat": 4,
 "nbformat_minor": 2
}
