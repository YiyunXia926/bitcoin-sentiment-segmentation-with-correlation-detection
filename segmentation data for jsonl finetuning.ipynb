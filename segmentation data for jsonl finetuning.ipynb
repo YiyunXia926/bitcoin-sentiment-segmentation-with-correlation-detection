{
 "cells": [
  {
   "cell_type": "code",
   "execution_count": null,
   "metadata": {},
   "outputs": [
    {
     "name": "stdout",
     "output_type": "stream",
     "text": [
      "                                                 url  \\\n",
      "0  https://www.ccn.com/paris-hiltons-hotel-mogul-...   \n",
      "1  https://www.ccn.com/playboy-sues-cryptocurrenc...   \n",
      "2  https://www.ccn.com/microsoft-reboots-bitcoin-...   \n",
      "3  https://www.ccn.com/japans-gmo-launches-app-to...   \n",
      "4  https://www.ccn.com/japanese-building-in-tokyo...   \n",
      "\n",
      "                                               title  \\\n",
      "0  Paris Hilton’s Hotel Mogul Father to Sell $38 ...   \n",
      "1  Playboy Sues Cryptocurrency Company for Breach...   \n",
      "2  Microsoft Restores Bitcoin Payments after Temp...   \n",
      "3  Japan’s GMO Launches App to Reward Gamers in B...   \n",
      "4  547 Bitcoins: $6 Million Commercial Japanese B...   \n",
      "\n",
      "                                                text  \\\n",
      "0  A group of journalists who left The Denver Pos...   \n",
      "1  Playboy Enterprises, the parent company of Pla...   \n",
      "2  Hardware and software giant Microsoft reported...   \n",
      "3  GMO Internet, a leading Japanese Internet serv...   \n",
      "4  A Tokyo-based real estate firm is selling a sm...   \n",
      "\n",
      "                                                html  year             author  \\\n",
      "0  <p>A group of journalists who left The Denver ...  2018     Lester Coleman   \n",
      "1  <p>Playboy Enterprises, the parent company of ...  2018          Jimmy Aki   \n",
      "2  <p>Hardware and software giant Microsoft repor...  2018  Francisco Memoria   \n",
      "3  <p>GMO Internet, a leading Japanese Internet s...  2018     Lester Coleman   \n",
      "4  <p><span style=\"font-weight: 400;\">A Tokyo-bas...  2018       Joseph Young   \n",
      "\n",
      "            source  VADER sentiment  \n",
      "0  accepts_bitcoin           0.0000  \n",
      "1  accepts_bitcoin           0.0000  \n",
      "2  accepts_bitcoin           0.2960  \n",
      "3  accepts_bitcoin           0.5719  \n",
      "4  accepts_bitcoin           0.0000  \n"
     ]
    }
   ],
   "source": [
    "\n",
    "from vaderSentiment.vaderSentiment import SentimentIntensityAnalyzer\n",
    "import pandas as pd\n",
    "\n",
    "\n",
    "file_path = \"C:/Users/a1669/Desktop/BitcoinSentimentAnalysis-main/crypto_news_parsed_2018_validation.csv\"  \n",
    "news_data = pd.read_csv(file_path)\n",
    "\n",
    "\n",
    "sid_obj = SentimentIntensityAnalyzer()\n",
    "\n",
    "news_data['VADER sentiment'] = news_data['title'].apply(lambda x: sid_obj.polarity_scores(str(x))['compound'])\n",
    "\n",
    "\n",
    "news_data.to_csv(\"news_with_sentiment.csv\", index=False)\n",
    "\n",
    "print(news_data.head())\n"
   ]
  }
 ],
 "metadata": {
  "kernelspec": {
   "display_name": "Python 3",
   "language": "python",
   "name": "python3"
  },
  "language_info": {
   "codemirror_mode": {
    "name": "ipython",
    "version": 3
   },
   "file_extension": ".py",
   "mimetype": "text/x-python",
   "name": "python",
   "nbconvert_exporter": "python",
   "pygments_lexer": "ipython3",
   "version": "3.13.2"
  }
 },
 "nbformat": 4,
 "nbformat_minor": 2
}
